{
 "cells": [
  {
   "cell_type": "code",
   "execution_count": 1,
   "metadata": {},
   "outputs": [],
   "source": [
    "from Bio import pairwise2\n",
    "from Bio.pairwise2 import *\n",
    "#import Biopython for alignment"
   ]
  },
  {
   "cell_type": "code",
   "execution_count": 2,
   "metadata": {
    "scrolled": true
   },
   "outputs": [
    {
     "name": "stdout",
     "output_type": "stream",
     "text": [
      "beta1AR\n",
      "SPEPLSQQWTAGMGLLMALIVLLIVAGNVLVIVAIAKTPRLQTLTNLFIMSLASADLVMGLLVVPFGATIVVWGRWEYGSFFCELWTSVDVLCVTASIETLCVIALDRYLAITSPFRYQSLLTRARARGLVCTVWAISALVSFLPILMHWWRAESDEARRCYNDPKCCDFVTNRAYAIASSVVSFYVPLCIMAFVYLRVFREAQKQVKKIDSCERRFLGGPARPPSPSPSPVPAPAPPPGPPRPAAAAATAPLANGRAGKRRPSRLVALREQKALKTLGIIMGVFTLCWLPFFLANVVKAFHRELVPDRLFVFFNWLGYANSAFNPIIYCRSPDFRKAFQRLLCCARRAARRRHATHG\n"
     ]
    }
   ],
   "source": [
    "def readin_files(file):\n",
    "    data_list = []\n",
    "    with open(file) as open_file:\n",
    "        for line in open_file:\n",
    "            data_list.append(line[:-1])\n",
    "    return data_list\n",
    "#defines the reading of files\n",
    "\n",
    "assignment = readin_files('assignment.list')\n",
    "#read in all the assignments\n",
    "\n",
    "#######################\n",
    "#Define the fasta file#\n",
    "#######################\n",
    "target = 'target.fasta'\n",
    "\n",
    "for line in open(target, 'r').readlines():\n",
    "    if line[0] == \">\":\n",
    "        target_name = line[1:-1]\n",
    "    else:\n",
    "        target_fasta = line[:-1]\n",
    "print(target_name)\n",
    "print(target_fasta)"
   ]
  },
  {
   "cell_type": "code",
   "execution_count": 3,
   "metadata": {
    "scrolled": true
   },
   "outputs": [
    {
     "name": "stdout",
     "output_type": "stream",
     "text": [
      "Starting assignment for beta1AR\n",
      "beta1AR  was assign as  > ADRB1\n",
      "> ADRB1  can be found in line  78\n"
     ]
    }
   ],
   "source": [
    "print('Starting assignment for', target_name)\n",
    "for assign in assignment:\n",
    "    assign = assign.split('\\t')\n",
    "    if target_name == assign[0]:\n",
    "        bw_assign = \"> \" + assign[2]\n",
    "    if target_name == assign[2]:\n",
    "        bw_assign = \"> \" + assign[2]\n",
    "print(target_name, \" was assign as \", bw_assign)\n",
    "#Here the script tries to find the model in the assignment list, so to define bw_assign for the later BW file\n",
    "\n",
    "gpcrdb = open('all_gpcrdb_num.data', 'r')\n",
    "gpcrdb_lines = gpcrdb.readlines()\n",
    "for i in range (0, len(gpcrdb_lines)):\n",
    "    if gpcrdb_lines[i][:-1] == bw_assign:\n",
    "        position = i\n",
    "print(bw_assign, ' can be found in line ',position)\n",
    "#The script gets the information, where in the BW list to find the needed residues\n",
    "\n",
    "fasta_bw = ''\n",
    "fasta = gpcrdb_lines[position + 1]\n",
    "fasta = fasta.split('\\t')\n",
    "fasta[-1] = fasta[-1][:-1]\n",
    "bw = gpcrdb_lines[position + 2]\n",
    "bw = bw.split('\\t')\n",
    "bw[-1] = bw[-1][:-1]\n",
    "for ele in fasta:\n",
    "    fasta_bw = fasta_bw + ele[0]\n",
    "#From the BW all data list the sequence for BW numbering is taken, defined and a list with the names provided\n",
    "\n",
    "alignments = pairwise2.align.globalxx(target_fasta, fasta_bw)\n",
    "#use of Biophython lib and the module pairwise 2\n",
    "aligned_bw = alignments[0][1]\n",
    "aligned_pdb = alignments[0][0]\n",
    "#the alignment will put '-' in spaces were there are differences\n",
    "\n",
    "offset_bw = 0\n",
    "offset_pdb = 0\n",
    "if aligned_pdb[0] == '-':\n",
    "    for residue in aligned_pdb:\n",
    "        if residue != '-':\n",
    "            break\n",
    "        else:\n",
    "            offset_pdb += 1\n",
    "else:\n",
    "    for residue in aligned_bw:\n",
    "        if residue != '-':\n",
    "            break\n",
    "        else:\n",
    "            offset_bw += 1\n",
    "#need to define an offset value (bw sequence starts earlier or later)\n",
    "\n",
    "bw_for_alignment = []           \n",
    "#print(offset_bw, offset_pdb)\n",
    "\n",
    "\n",
    "offset_aligned_in_fasta = 0\n",
    "offset_bw_in_fasta = 0\n",
    "\n",
    "f = open(f\"{bw_assign[2:]}.bw\", 'w')\n",
    "\n",
    "bw_numbering_final = []\n",
    "if offset_bw > offset_pdb: \n",
    "    for i in range(offset_bw, len(target_fasta)):\n",
    "        if aligned_bw[i] == '-':\n",
    "            offset_aligned_in_fasta += 1 \n",
    "        else:\n",
    "            try:\n",
    "                if aligned_pdb[i] == '-':\n",
    "                    offset_bw_in_fasta += 1 \n",
    "                else:\n",
    "                    print(aligned_pdb[i], i + 1 - offset_bw_in_fasta, bw[i - offset_bw - offset_aligned_in_fasta], file=f)\n",
    "                    bw_numbering_final.append((aligned_pdb[i], i + 1 - offset_bw_in_fasta, bw[i - offset_bw - offset_aligned_in_fasta]))\n",
    "            except:\n",
    "                pass\n",
    "#Here happens the magic and it is complicated\n",
    "#We need two further offset values, one k for the bw numbering and z for when in the crystal structure we have\n",
    "#another residue (complicated, but the assignment will make from ex. VASQAS BW and VASNAS Crystal -> VAS-QAS and VASN-AS)\n",
    "#The code will correct this with z (DON'T ASK ME, IT'S MAGIC)\n",
    "\n",
    "else:\n",
    "    for i in range(offset_pdb, len(target_fasta)):\n",
    "        if aligned_bw[i] == '-':\n",
    "            k  += 1 \n",
    "        else:\n",
    "            try:                    \n",
    "                if aligned_pdb[i] == '-':\n",
    "                    z += 1 \n",
    "                else:\n",
    "                    print(aligned_pdb[i], (i + 1 - offset_pdb - offset_bw_in_fasta), bw[i - offset_aligned_in_fasta], file=f)\n",
    "                    bw_numbering_final.append((aligned_pdb[i], (i + 1 - offset_pdb - offset_bw_in_fasta), bw[i - offset_aligned_in_fasta]))\n",
    "            except:\n",
    "                pass\n",
    "#prints AA, number in Rosetta and BW Numbering\n",
    "f.close()       "
   ]
  },
  {
   "cell_type": "code",
   "execution_count": null,
   "metadata": {},
   "outputs": [],
   "source": []
  }
 ],
 "metadata": {
  "kernelspec": {
   "display_name": "Python 3",
   "language": "python",
   "name": "python3"
  },
  "language_info": {
   "codemirror_mode": {
    "name": "ipython",
    "version": 3
   },
   "file_extension": ".py",
   "mimetype": "text/x-python",
   "name": "python",
   "nbconvert_exporter": "python",
   "pygments_lexer": "ipython3",
   "version": "3.7.16"
  }
 },
 "nbformat": 4,
 "nbformat_minor": 4
}
