{
 "cells": [
  {
   "cell_type": "code",
   "execution_count": 5,
   "metadata": {},
   "outputs": [
    {
     "name": "stdout",
     "output_type": "stream",
     "text": [
      "['1.39x39', '5.38x39', '28.1859708897884', '1.98153710081087']\n",
      "['2.65x64', '3.40x40', '25.9551227971488', '1.4247725330084']\n",
      "['4.57x57', '7.32x31', '23.8394185751247', '1.52097100338369']\n",
      "['2.60x59', '6.59x59', '25.8916827765211', '1.92861744166226']\n"
     ]
    }
   ],
   "source": [
    "bw = []\n",
    "file = open('bw.list', 'r')\n",
    "for line in file:\n",
    "    bw.append(line[:-1])\n",
    "distance_pair = []\n",
    "file = open('selected_pairs.list', 'r')\n",
    "for line in file:\n",
    "    line = line.split()\n",
    "    distance_pair.append(line)\n",
    "for pair in distance_pair:\n",
    "    print(pair)\n",
    "#opens bw list with all bw files for the receptors (deleted suffix of the file, just rec.bw)\n",
    "#opens the selected distances with res low, res high, distance in A and STDEV in A"
   ]
  },
  {
   "cell_type": "code",
   "execution_count": 7,
   "metadata": {
    "scrolled": true
   },
   "outputs": [],
   "source": [
    "for ele in bw:\n",
    "    elem = ele.split('.')\n",
    "    new_file = f\"{elem[0]}.cst\"\n",
    "    cst_file = open(new_file, 'w')\n",
    "    constraint = []\n",
    "    for pair in distance_pair:\n",
    "        file = open(ele, 'r')\n",
    "        res_num = []\n",
    "        for line in file:\n",
    "            line = line.split()\n",
    "            if pair[0] in line[2]:\n",
    "                res_num.append(line[1])\n",
    "            elif pair[1] in line[2]:\n",
    "                res_num.append(line[1])\n",
    "        try:\n",
    "            print(\"AtomPair \\t CA \\t\", res_num[0], \"\\t CA \\t \", res_num[1], \n",
    "            \"\\t SCALARWEIGHTEDFUNC \\t 3 \\t HARMONIC \\t\", \n",
    "            pair[2], \"\\t 1\", file=cst_file)\n",
    "        #    print(\"AtomPair \\t CA \\t\", res_num[0], \"\\t CA \\t \", res_num[1], \n",
    "        #    \"\\t SCALARWEIGHTEDFUNC \\t 3 \\t HARMONIC \\t\", \n",
    "        #    pair[2], \"\\t 1\")\n",
    "        except:\n",
    "            print(\"#NOPE\", file=cst_file)\n",
    "            print(\"#NOPE\")\n",
    "    #for constraint_row in constraint:\n",
    "     #   print(constraint_row)\n",
    "\n",
    "    cst_file.close()\n",
    "#simple script, opens new file, starts for each distance pair a new for loop --> opens bw file, searchs for fitting number\n",
    "#prints final format"
   ]
  },
  {
   "cell_type": "code",
   "execution_count": 8,
   "metadata": {},
   "outputs": [
    {
     "name": "stdout",
     "output_type": "stream",
     "text": [
      "['1.39x39', '5.38x39', '28.1859708897884', '1.98153710081087']\n",
      "['2.65x64', '3.40x40', '25.9551227971488', '1.4247725330084']\n",
      "['4.57x57', '7.32x31', '23.8394185751247', '1.52097100338369']\n",
      "['2.60x59', '6.59x59', '25.8916827765211', '1.92861744166226']\n"
     ]
    }
   ],
   "source": [
    "for pair in distance_pair:\n",
    "    print(pair)"
   ]
  },
  {
   "cell_type": "code",
   "execution_count": null,
   "metadata": {},
   "outputs": [],
   "source": []
  }
 ],
 "metadata": {
  "kernelspec": {
   "display_name": "Python 3",
   "language": "python",
   "name": "python3"
  },
  "language_info": {
   "codemirror_mode": {
    "name": "ipython",
    "version": 3
   },
   "file_extension": ".py",
   "mimetype": "text/x-python",
   "name": "python",
   "nbconvert_exporter": "python",
   "pygments_lexer": "ipython3",
   "version": "3.7.7"
  }
 },
 "nbformat": 4,
 "nbformat_minor": 4
}
