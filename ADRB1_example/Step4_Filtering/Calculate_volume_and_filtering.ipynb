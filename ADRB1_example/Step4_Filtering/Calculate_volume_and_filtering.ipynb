{
 "cells": [
  {
   "cell_type": "code",
   "execution_count": 1,
   "metadata": {},
   "outputs": [
    {
     "data": {
      "text/plain": [
       "0"
      ]
     },
     "execution_count": 1,
     "metadata": {},
     "output_type": "execute_result"
    }
   ],
   "source": [
    "import matplotlib.pyplot as plt\n",
    "import numpy as np\n",
    "from mpl_toolkits import mplot3d\n",
    "from scipy.spatial import *\n",
    "import pandas as pd\n",
    "\n",
    "import os\n",
    "os.system('ls *.pdb > pdb.list')\n",
    "#generate a list with all pdbs"
   ]
  },
  {
   "cell_type": "code",
   "execution_count": 2,
   "metadata": {
    "scrolled": true
   },
   "outputs": [
    {
     "name": "stdout",
     "output_type": "stream",
     "text": [
      "['63', '71', '86', '95', '176', '185', '292', '299', '308', '319']\n"
     ]
    }
   ],
   "source": [
    "def readin_files(file):\n",
    "    data_list = []\n",
    "    with open(file) as open_file:\n",
    "        for line in open_file:\n",
    "            data_list.append(line[:-1])\n",
    "    return data_list\n",
    "#defines the reading of files\n",
    "\n",
    "model = readin_files('pdb.list')\n",
    "volume_residues = readin_files('selected_res_vol.list')\n",
    "bw_numbering = readin_files('ADRB1.bw')\n",
    "#read in all the necessary files and assignments\n",
    "\n",
    "relevant_vol_res = []\n",
    "for residue in bw_numbering:\n",
    "    res = residue.split()\n",
    "    if res[2] in volume_residues:\n",
    "        relevant_vol_res.append(res[1])\n",
    "print(relevant_vol_res)\n",
    "#build a Rosetta number list\n"
   ]
  },
  {
   "cell_type": "code",
   "execution_count": 3,
   "metadata": {},
   "outputs": [],
   "source": [
    "for structure in model:\n",
    "    xyz_name = f\"{structure}.xyz\"\n",
    "    xyz_file = open(xyz_name, 'w')\n",
    "    for lines in open(structure, 'r').readlines():\n",
    "        line = lines.split()\n",
    "        try:\n",
    "            if line[5] in relevant_vol_res and line[4] == 'A' and line[2] == 'CA': \n",
    "                print(*line[3:9], sep='\\t', file=xyz_file)\n",
    "        except:\n",
    "            pass\n",
    "    xyz_file.close()\n",
    "#selects from all pdbs the relevant residues (CA atom) and the x, y and z coordinates"
   ]
  },
  {
   "cell_type": "code",
   "execution_count": 4,
   "metadata": {},
   "outputs": [
    {
     "name": "stdout",
     "output_type": "stream",
     "text": [
      "1\n",
      "2\n",
      "3\n",
      "4\n",
      "5\n",
      "6\n",
      "7\n",
      "8\n",
      "9\n",
      "10\n"
     ]
    },
    {
     "data": {
      "text/plain": [
       "31488"
      ]
     },
     "execution_count": 4,
     "metadata": {},
     "output_type": "execute_result"
    }
   ],
   "source": [
    "xyz = []\n",
    "for structure in model:\n",
    "    xyz.append((structure + \".xyz\"))\n",
    "\n",
    "counter = 0\n",
    "for ele in xyz:\n",
    "    vol_file = open(f\"{ele}.vol\", \"w\")\n",
    "    points = []\n",
    "    file = open(ele, 'r')\n",
    "    try:\n",
    "        for line in file:\n",
    "            line = line.split()\n",
    "            if \"NA\" not in line:\n",
    "                point = line[-3:]\n",
    "            points.append(point)\n",
    "        hull = ConvexHull(points)\n",
    "\n",
    "        print(ele, hull.volume, file=vol_file)\n",
    "        vol_file.close()\n",
    "        counter += 1\n",
    "        print(counter)\n",
    "    except:\n",
    "        print(ele, \"NA\", file=f)\n",
    "#For calculating the volume of the 10 res and saving them in a new file\n",
    "os.system('find . -name \"*vol\" -exec cat {} > all_vol.list \\;')\n",
    "#One final file for all volumes\n",
    "os.system('find . -name \"*.pdb\" | xargs grep -E \"pose\" > score.list \\;')"
   ]
  },
  {
   "cell_type": "code",
   "execution_count": 5,
   "metadata": {},
   "outputs": [
    {
     "data": {
      "text/html": [
       "<div>\n",
       "<style scoped>\n",
       "    .dataframe tbody tr th:only-of-type {\n",
       "        vertical-align: middle;\n",
       "    }\n",
       "\n",
       "    .dataframe tbody tr th {\n",
       "        vertical-align: top;\n",
       "    }\n",
       "\n",
       "    .dataframe thead th {\n",
       "        text-align: right;\n",
       "    }\n",
       "</style>\n",
       "<table border=\"1\" class=\"dataframe\">\n",
       "  <thead>\n",
       "    <tr style=\"text-align: right;\">\n",
       "      <th></th>\n",
       "      <th>description</th>\n",
       "      <th>volume</th>\n",
       "      <th>score</th>\n",
       "    </tr>\n",
       "  </thead>\n",
       "  <tbody>\n",
       "    <tr>\n",
       "      <th>0</th>\n",
       "      <td>10_S_0001.pdb</td>\n",
       "      <td>2652.774345</td>\n",
       "      <td>-1247.10</td>\n",
       "    </tr>\n",
       "    <tr>\n",
       "      <th>1</th>\n",
       "      <td>1_S_0001.pdb</td>\n",
       "      <td>2775.230423</td>\n",
       "      <td>-1126.69</td>\n",
       "    </tr>\n",
       "    <tr>\n",
       "      <th>2</th>\n",
       "      <td>2_S_0001.pdb</td>\n",
       "      <td>2637.399243</td>\n",
       "      <td>-1267.36</td>\n",
       "    </tr>\n",
       "    <tr>\n",
       "      <th>3</th>\n",
       "      <td>3_S_0001.pdb</td>\n",
       "      <td>2519.961872</td>\n",
       "      <td>-1276.95</td>\n",
       "    </tr>\n",
       "    <tr>\n",
       "      <th>4</th>\n",
       "      <td>4_S_0001.pdb</td>\n",
       "      <td>2961.618739</td>\n",
       "      <td>-1178.01</td>\n",
       "    </tr>\n",
       "    <tr>\n",
       "      <th>5</th>\n",
       "      <td>5_S_0001.pdb</td>\n",
       "      <td>2685.552038</td>\n",
       "      <td>-1186.73</td>\n",
       "    </tr>\n",
       "    <tr>\n",
       "      <th>6</th>\n",
       "      <td>6_S_0001.pdb</td>\n",
       "      <td>3115.406926</td>\n",
       "      <td>-1081.36</td>\n",
       "    </tr>\n",
       "    <tr>\n",
       "      <th>7</th>\n",
       "      <td>7_S_0001.pdb</td>\n",
       "      <td>2499.950942</td>\n",
       "      <td>-1116.01</td>\n",
       "    </tr>\n",
       "    <tr>\n",
       "      <th>8</th>\n",
       "      <td>8_S_0001.pdb</td>\n",
       "      <td>2645.713252</td>\n",
       "      <td>-1108.46</td>\n",
       "    </tr>\n",
       "    <tr>\n",
       "      <th>9</th>\n",
       "      <td>9_S_0001.pdb</td>\n",
       "      <td>2804.172860</td>\n",
       "      <td>-1158.82</td>\n",
       "    </tr>\n",
       "  </tbody>\n",
       "</table>\n",
       "</div>"
      ],
      "text/plain": [
       "     description       volume    score\n",
       "0  10_S_0001.pdb  2652.774345 -1247.10\n",
       "1   1_S_0001.pdb  2775.230423 -1126.69\n",
       "2   2_S_0001.pdb  2637.399243 -1267.36\n",
       "3   3_S_0001.pdb  2519.961872 -1276.95\n",
       "4   4_S_0001.pdb  2961.618739 -1178.01\n",
       "5   5_S_0001.pdb  2685.552038 -1186.73\n",
       "6   6_S_0001.pdb  3115.406926 -1081.36\n",
       "7   7_S_0001.pdb  2499.950942 -1116.01\n",
       "8   8_S_0001.pdb  2645.713252 -1108.46\n",
       "9   9_S_0001.pdb  2804.172860 -1158.82"
      ]
     },
     "execution_count": 5,
     "metadata": {},
     "output_type": "execute_result"
    }
   ],
   "source": [
    "df_volume = pd.read_csv('all_vol.list', names=['description', 'volume'], sep='\\s+')\n",
    "df_volume['description'] = df_volume['description'].map(lambda x: str(x)[:-4])\n",
    "df_score = pd.read_csv('score.list', header=None, sep='\\s+')\n",
    "df_score['description'] = df_score[0].map(lambda x: str(x)[2:-5])\n",
    "df_score_final = df_score[[23, 'description']]\n",
    "merged = pd.merge(left=df_volume, right=df_score_final, on='description')\n",
    "merged = merged.rename(columns={23: 'score'})\n",
    "merged\n",
    "#read in the volume and the score files and generates a merged dataframe"
   ]
  },
  {
   "cell_type": "code",
   "execution_count": 6,
   "metadata": {},
   "outputs": [
    {
     "name": "stdout",
     "output_type": "stream",
     "text": [
      "2729.7780639418997\n"
     ]
    },
    {
     "name": "stderr",
     "output_type": "stream",
     "text": [
      "/home/iwe2/anaconda3/envs/pyrosetta_env/lib/python3.7/site-packages/pandas/util/_decorators.py:311: SettingWithCopyWarning: \n",
      "A value is trying to be set on a copy of a slice from a DataFrame\n",
      "\n",
      "See the caveats in the documentation: https://pandas.pydata.org/pandas-docs/stable/user_guide/indexing.html#returning-a-view-versus-a-copy\n",
      "  return func(*args, **kwargs)\n"
     ]
    },
    {
     "data": {
      "text/plain": [
       "0"
      ]
     },
     "execution_count": 6,
     "metadata": {},
     "output_type": "execute_result"
    }
   ],
   "source": [
    "merged['volume'] = merged['volume'].astype(float)\n",
    "merged['score'] = merged['score'].astype(float)\n",
    "mean_vol = merged['volume'].mean()\n",
    "\n",
    "print(mean_vol)\n",
    "selected = merged.loc[(merged['volume'] > (mean_vol-200)) & (merged['volume'] < (mean_vol+200))]\n",
    "selected.sort_values(by=['score'], inplace=True, ascending=True)\n",
    "selected.to_csv('within_200.list', sep='\\t', index=None)\n",
    "os.system(f'echo \"\\nThe mean_volume was {round(mean_vol, 2)}\" >> within_200.list')\n",
    "best5 = selected.head(5)\n",
    "best5.to_csv('best5.list', sep='\\t', index=None)\n",
    "os.system(f'echo \"\\nThe mean_volume was {round(mean_vol, 2)}\" >> best5.list')"
   ]
  },
  {
   "cell_type": "code",
   "execution_count": null,
   "metadata": {},
   "outputs": [],
   "source": []
  }
 ],
 "metadata": {
  "kernelspec": {
   "display_name": "Python 3",
   "language": "python",
   "name": "python3"
  },
  "language_info": {
   "codemirror_mode": {
    "name": "ipython",
    "version": 3
   },
   "file_extension": ".py",
   "mimetype": "text/x-python",
   "name": "python",
   "nbconvert_exporter": "python",
   "pygments_lexer": "ipython3",
   "version": "3.7.7"
  }
 },
 "nbformat": 4,
 "nbformat_minor": 4
}
