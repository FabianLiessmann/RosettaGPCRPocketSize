{
 "cells": [
  {
   "cell_type": "code",
   "execution_count": 1,
   "metadata": {},
   "outputs": [
    {
     "name": "stdout",
     "output_type": "stream",
     "text": [
      "['2.60x59', 'x', '3.40x40', '22.4991962967569']\n",
      "['2.60x59', 'x', '5.38x39', '24.2514662855671']\n",
      "['2.60x59', 'x', '7.32x31', '18.7791836617037']\n",
      "['3.40x40', 'x', '5.38x39', '17.9431131635511']\n",
      "['3.40x40', 'x', '7.32x31', '25.3449737423419']\n",
      "['5.38x39', 'x', '7.32x31', '20.303514621858']\n",
      "['2.65x64', 'x', '4.57x57', '23.083653485449']\n",
      "['2.65x64', 'x', '5.46x461', '25.3527055017767']\n",
      "['2.65x64', 'x', '6.48x48', '19.9148197156328']\n",
      "['4.57x57', 'x', '5.46x461', '10.7589460915092']\n",
      "['4.57x57', 'x', '6.48x48', '17.3441656472717']\n",
      "['5.46x461', 'x', '6.48x48', '11.2366451398983']\n"
     ]
    }
   ],
   "source": [
    "import random\n",
    "\n",
    "bw_file = 'CXCR4.bw'\n",
    "distance_pair = []\n",
    "for line in open('selected_pairs.list', 'r').readlines():\n",
    "    line = line.split()\n",
    "    distance_pair.append(line)\n",
    "for pair in distance_pair:\n",
    "    print(pair)\n",
    "#opens the selected distances with res low, res high and distance in A\n",
    "\n",
    "number_of_constraint_files = 10\n",
    "#########################################\n",
    "#    Define the number of constraints   #\n",
    "#This is similar to the number of models#\n",
    "#########################################"
   ]
  },
  {
   "cell_type": "code",
   "execution_count": 2,
   "metadata": {},
   "outputs": [],
   "source": [
    "def random_para():\n",
    "    global weight, distance, harmonic, constant\n",
    "    weight = random.randint(2,4)\n",
    "    distance = (1+float(random.randint(3,7)/100))\n",
    "    harmonic = (random.randint(4,8)/10)\n",
    "    constant = str(-(random.randint(1,10)))\n",
    "random_para()\n",
    "#initialize the random function and generate a first parameter set"
   ]
  },
  {
   "cell_type": "code",
   "execution_count": 3,
   "metadata": {
    "scrolled": true
   },
   "outputs": [],
   "source": [
    "for i in range(1, (number_of_constraint_files+1)):\n",
    "    cst_file_name = bw_file[:-3] + '_' + str(i) + '.cst'\n",
    "    cst_file = open(cst_file_name, 'w')\n",
    "    #build a new cst file \n",
    "    constraint = []\n",
    "    tetrahedron_counter = 0\n",
    "    for pair in distance_pair:\n",
    "        tetrahedron_counter += 1\n",
    "        file = open(bw_file, 'r')\n",
    "        res_num = []\n",
    "        for line in file:\n",
    "            line = line.split()\n",
    "            if pair[0] == line[2]:\n",
    "                res_num.append(line[1])\n",
    "            if pair[2] == line[2]:\n",
    "                res_num.append(line[1])\n",
    "        #get the information for the bw pair and corresponding number in the fasta --> final Rosetta res number\n",
    "        try:\n",
    "            print('AtomPair \\t CA \\t', res_num[0], '\\t CA \\t ', res_num[1], '\\t SCALARWEIGHTEDFUNC \\t', \n",
    "            weight, '\\t SUMFUNC \\t 2 \\t HARMONIC \\t', str(round(float(pair[3])*distance, 4)), \n",
    "            '\\t', harmonic, '\\t CONSTANTFUNC \\t', constant, file=cst_file)\n",
    "\n",
    "        except:\n",
    "            print('#There was an error with', res_num[0], res_num[1])\n",
    "            print('#There was an error with', res_num[0], res_num[1])\n",
    "        #write the constraint line into a file, if there is an error --> missing bw number, catch the except \n",
    "        if tetrahedron_counter == 6:\n",
    "            print('#The selected parameters were:', weight, distance, harmonic, constant, file=cst_file)\n",
    "            tetrahedron_counter = 0 \n",
    "            random_para()\n",
    "        #after one tetrahedron (6 pairs of residues), write the selected parameter and generate new ones\n",
    "    cst_file.close()\n",
    "    \n",
    "#simple script, opens new file, starts for each distance pair a new for loop --> opens bw file, searchs for fitting number"
   ]
  },
  {
   "cell_type": "code",
   "execution_count": 4,
   "metadata": {},
   "outputs": [],
   "source": [
    "#Bonus: Write a bash script to copy the constraints and rename XML script\n",
    "bash_script = open('copy_cst_and_xml.sh', 'w')\n",
    "print('cp *.cst ../Step3_RosettaGPCR/input/', file=bash_script)\n",
    "for i in range(1, (number_of_constraint_files+1)):\n",
    "    cst_file_name = bw_file[:-3] + '_' + str(i) + '.cst'\n",
    "    xml_file_name = 'rosetta_cm' + str(i) + '.xml'\n",
    "    print(f'sed \"s/constraint_number/{cst_file_name}/g\" ../Step3_RosettaGPCR/input/rosetta_cm.xml >>../Step3_RosettaGPCR/input/{xml_file_name}',\n",
    "         file=bash_script)\n",
    "bash_script.close()"
   ]
  },
  {
   "cell_type": "code",
   "execution_count": null,
   "metadata": {},
   "outputs": [],
   "source": []
  }
 ],
 "metadata": {
  "kernelspec": {
   "display_name": "Python 3",
   "language": "python",
   "name": "python3"
  },
  "language_info": {
   "codemirror_mode": {
    "name": "ipython",
    "version": 3
   },
   "file_extension": ".py",
   "mimetype": "text/x-python",
   "name": "python",
   "nbconvert_exporter": "python",
   "pygments_lexer": "ipython3",
   "version": "3.7.7"
  }
 },
 "nbformat": 4,
 "nbformat_minor": 4
}
